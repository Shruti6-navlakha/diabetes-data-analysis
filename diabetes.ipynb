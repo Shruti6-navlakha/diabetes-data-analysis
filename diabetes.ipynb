{
 "cells": [
  {
   "cell_type": "code",
   "execution_count": 1,
   "metadata": {},
   "outputs": [
    {
     "name": "stdout",
     "output_type": "stream",
     "text": [
      "Collecting pandas-profiling\n",
      "  Using cached pandas_profiling-2.11.0-py2.py3-none-any.whl (243 kB)\n",
      "Requirement already satisfied: scipy>=1.4.1 in c:\\users\\ashvini medical\\anaconda3\\lib\\site-packages (from pandas-profiling) (1.5.2)\n",
      "Requirement already satisfied: tqdm>=4.48.2 in c:\\users\\ashvini medical\\anaconda3\\lib\\site-packages (from pandas-profiling) (4.50.2)\n",
      "Collecting confuse>=1.0.0\n",
      "  Using cached confuse-1.4.0-py2.py3-none-any.whl (21 kB)\n",
      "Requirement already satisfied: matplotlib>=3.2.0 in c:\\users\\ashvini medical\\anaconda3\\lib\\site-packages (from pandas-profiling) (3.3.1)\n",
      "Collecting tangled-up-in-unicode>=0.0.6\n",
      "  Using cached tangled_up_in_unicode-0.0.7-py3-none-any.whl (3.1 MB)\n",
      "Processing c:\\users\\ashvini medical\\appdata\\local\\pip\\cache\\wheels\\23\\14\\6e\\4be5bfeeb027f4939a01764b48edd5996acf574b0913fe5243\\htmlmin-0.1.12-py3-none-any.whl\n",
      "Requirement already satisfied: numpy>=1.16.0 in c:\\users\\ashvini medical\\anaconda3\\lib\\site-packages (from pandas-profiling) (1.19.2)\n",
      "Requirement already satisfied: attrs>=19.3.0 in c:\\users\\ashvini medical\\anaconda3\\lib\\site-packages (from pandas-profiling) (20.3.0)\n",
      "Processing c:\\users\\ashvini medical\\appdata\\local\\pip\\cache\\wheels\\72\\9a\\23\\097c93fd8341220d92674891b6a9a30f0e389719d9b7291bd2\\phik-0.11.2-py3-none-any.whl\n",
      "Collecting missingno>=0.4.2\n",
      "  Using cached missingno-0.4.2-py3-none-any.whl (9.7 kB)\n",
      "Requirement already satisfied: requests>=2.24.0 in c:\\users\\ashvini medical\\anaconda3\\lib\\site-packages (from pandas-profiling) (2.24.0)\n",
      "Requirement already satisfied: ipywidgets>=7.5.1 in c:\\users\\ashvini medical\\anaconda3\\lib\\site-packages (from pandas-profiling) (7.5.1)\n",
      "Requirement already satisfied: jinja2>=2.11.1 in c:\\users\\ashvini medical\\anaconda3\\lib\\site-packages (from pandas-profiling) (2.11.2)\n",
      "Requirement already satisfied: seaborn>=0.10.1 in c:\\users\\ashvini medical\\anaconda3\\lib\\site-packages (from pandas-profiling) (0.11.0)\n",
      "Collecting visions[type_image_path]==0.6.0\n",
      "  Using cached visions-0.6.0-py3-none-any.whl (75 kB)\n",
      "Requirement already satisfied: pandas!=1.0.0,!=1.0.1,!=1.0.2,!=1.1.0,>=0.25.3 in c:\\users\\ashvini medical\\anaconda3\\lib\\site-packages (from pandas-profiling) (1.1.3)\n",
      "Requirement already satisfied: joblib in c:\\users\\ashvini medical\\anaconda3\\lib\\site-packages (from pandas-profiling) (0.17.0)\n",
      "Requirement already satisfied: pyyaml in c:\\users\\ashvini medical\\anaconda3\\lib\\site-packages (from confuse>=1.0.0->pandas-profiling) (5.3.1)\n",
      "Requirement already satisfied: python-dateutil>=2.1 in c:\\users\\ashvini medical\\anaconda3\\lib\\site-packages (from matplotlib>=3.2.0->pandas-profiling) (2.8.1)\n",
      "Requirement already satisfied: pyparsing!=2.0.4,!=2.1.2,!=2.1.6,>=2.0.3 in c:\\users\\ashvini medical\\anaconda3\\lib\\site-packages (from matplotlib>=3.2.0->pandas-profiling) (2.4.7)\n",
      "Requirement already satisfied: pillow>=6.2.0 in c:\\users\\ashvini medical\\anaconda3\\lib\\site-packages (from matplotlib>=3.2.0->pandas-profiling) (8.0.1)\n",
      "Requirement already satisfied: certifi>=2020.06.20 in c:\\users\\ashvini medical\\anaconda3\\lib\\site-packages (from matplotlib>=3.2.0->pandas-profiling) (2020.6.20)\n",
      "Requirement already satisfied: kiwisolver>=1.0.1 in c:\\users\\ashvini medical\\anaconda3\\lib\\site-packages (from matplotlib>=3.2.0->pandas-profiling) (1.3.0)\n",
      "Requirement already satisfied: cycler>=0.10 in c:\\users\\ashvini medical\\anaconda3\\lib\\site-packages (from matplotlib>=3.2.0->pandas-profiling) (0.10.0)\n",
      "Requirement already satisfied: urllib3!=1.25.0,!=1.25.1,<1.26,>=1.21.1 in c:\\users\\ashvini medical\\anaconda3\\lib\\site-packages (from requests>=2.24.0->pandas-profiling) (1.25.11)\n",
      "Requirement already satisfied: chardet<4,>=3.0.2 in c:\\users\\ashvini medical\\anaconda3\\lib\\site-packages (from requests>=2.24.0->pandas-profiling) (3.0.4)\n",
      "Requirement already satisfied: idna<3,>=2.5 in c:\\users\\ashvini medical\\anaconda3\\lib\\site-packages (from requests>=2.24.0->pandas-profiling) (2.10)\n",
      "Requirement already satisfied: ipykernel>=4.5.1 in c:\\users\\ashvini medical\\anaconda3\\lib\\site-packages (from ipywidgets>=7.5.1->pandas-profiling) (5.3.4)\n",
      "Requirement already satisfied: widgetsnbextension~=3.5.0 in c:\\users\\ashvini medical\\anaconda3\\lib\\site-packages (from ipywidgets>=7.5.1->pandas-profiling) (3.5.1)\n",
      "Requirement already satisfied: nbformat>=4.2.0 in c:\\users\\ashvini medical\\anaconda3\\lib\\site-packages (from ipywidgets>=7.5.1->pandas-profiling) (5.0.8)\n",
      "Requirement already satisfied: traitlets>=4.3.1 in c:\\users\\ashvini medical\\anaconda3\\lib\\site-packages (from ipywidgets>=7.5.1->pandas-profiling) (5.0.5)\n",
      "Requirement already satisfied: ipython>=4.0.0; python_version >= \"3.3\" in c:\\users\\ashvini medical\\anaconda3\\lib\\site-packages (from ipywidgets>=7.5.1->pandas-profiling) (7.19.0)\n",
      "Requirement already satisfied: MarkupSafe>=0.23 in c:\\users\\ashvini medical\\anaconda3\\lib\\site-packages (from jinja2>=2.11.1->pandas-profiling) (1.1.1)\n",
      "Requirement already satisfied: networkx>=2.4 in c:\\users\\ashvini medical\\anaconda3\\lib\\site-packages (from visions[type_image_path]==0.6.0->pandas-profiling) (2.5)\n",
      "Collecting imagehash; extra == \"type_image_path\"\n",
      "  Using cached ImageHash-4.2.0-py2.py3-none-any.whl (295 kB)\n",
      "Requirement already satisfied: pytz>=2017.2 in c:\\users\\ashvini medical\\anaconda3\\lib\\site-packages (from pandas!=1.0.0,!=1.0.1,!=1.0.2,!=1.1.0,>=0.25.3->pandas-profiling) (2020.1)\n",
      "Requirement already satisfied: six>=1.5 in c:\\users\\ashvini medical\\anaconda3\\lib\\site-packages (from python-dateutil>=2.1->matplotlib>=3.2.0->pandas-profiling) (1.15.0)\n",
      "Requirement already satisfied: jupyter-client in c:\\users\\ashvini medical\\anaconda3\\lib\\site-packages (from ipykernel>=4.5.1->ipywidgets>=7.5.1->pandas-profiling) (6.1.7)\n",
      "Requirement already satisfied: tornado>=4.2 in c:\\users\\ashvini medical\\anaconda3\\lib\\site-packages (from ipykernel>=4.5.1->ipywidgets>=7.5.1->pandas-profiling) (6.0.4)\n",
      "Requirement already satisfied: notebook>=4.4.1 in c:\\users\\ashvini medical\\anaconda3\\lib\\site-packages (from widgetsnbextension~=3.5.0->ipywidgets>=7.5.1->pandas-profiling) (6.1.4)\n",
      "Requirement already satisfied: jupyter-core in c:\\users\\ashvini medical\\anaconda3\\lib\\site-packages (from nbformat>=4.2.0->ipywidgets>=7.5.1->pandas-profiling) (4.6.3)\n",
      "Requirement already satisfied: jsonschema!=2.5.0,>=2.4 in c:\\users\\ashvini medical\\anaconda3\\lib\\site-packages (from nbformat>=4.2.0->ipywidgets>=7.5.1->pandas-profiling) (3.2.0)\n",
      "Requirement already satisfied: ipython-genutils in c:\\users\\ashvini medical\\anaconda3\\lib\\site-packages (from nbformat>=4.2.0->ipywidgets>=7.5.1->pandas-profiling) (0.2.0)\n",
      "Requirement already satisfied: prompt-toolkit!=3.0.0,!=3.0.1,<3.1.0,>=2.0.0 in c:\\users\\ashvini medical\\anaconda3\\lib\\site-packages (from ipython>=4.0.0; python_version >= \"3.3\"->ipywidgets>=7.5.1->pandas-profiling) (3.0.8)\n",
      "Requirement already satisfied: decorator in c:\\users\\ashvini medical\\anaconda3\\lib\\site-packages (from ipython>=4.0.0; python_version >= \"3.3\"->ipywidgets>=7.5.1->pandas-profiling) (4.4.2)\n",
      "Requirement already satisfied: jedi>=0.10 in c:\\users\\ashvini medical\\anaconda3\\lib\\site-packages (from ipython>=4.0.0; python_version >= \"3.3\"->ipywidgets>=7.5.1->pandas-profiling) (0.17.1)\n",
      "Requirement already satisfied: pickleshare in c:\\users\\ashvini medical\\anaconda3\\lib\\site-packages (from ipython>=4.0.0; python_version >= \"3.3\"->ipywidgets>=7.5.1->pandas-profiling) (0.7.5)\n",
      "Requirement already satisfied: colorama; sys_platform == \"win32\" in c:\\users\\ashvini medical\\anaconda3\\lib\\site-packages (from ipython>=4.0.0; python_version >= \"3.3\"->ipywidgets>=7.5.1->pandas-profiling) (0.4.4)\n",
      "Requirement already satisfied: pygments in c:\\users\\ashvini medical\\anaconda3\\lib\\site-packages (from ipython>=4.0.0; python_version >= \"3.3\"->ipywidgets>=7.5.1->pandas-profiling) (2.7.2)\n",
      "Requirement already satisfied: backcall in c:\\users\\ashvini medical\\anaconda3\\lib\\site-packages (from ipython>=4.0.0; python_version >= \"3.3\"->ipywidgets>=7.5.1->pandas-profiling) (0.2.0)\n",
      "Requirement already satisfied: setuptools>=18.5 in c:\\users\\ashvini medical\\anaconda3\\lib\\site-packages (from ipython>=4.0.0; python_version >= \"3.3\"->ipywidgets>=7.5.1->pandas-profiling) (50.3.1.post20201107)\n",
      "Requirement already satisfied: PyWavelets in c:\\users\\ashvini medical\\anaconda3\\lib\\site-packages (from imagehash; extra == \"type_image_path\"->visions[type_image_path]==0.6.0->pandas-profiling) (1.1.1)\n",
      "Requirement already satisfied: pyzmq>=13 in c:\\users\\ashvini medical\\anaconda3\\lib\\site-packages (from jupyter-client->ipykernel>=4.5.1->ipywidgets>=7.5.1->pandas-profiling) (19.0.2)\n",
      "Requirement already satisfied: nbconvert in c:\\users\\ashvini medical\\anaconda3\\lib\\site-packages (from notebook>=4.4.1->widgetsnbextension~=3.5.0->ipywidgets>=7.5.1->pandas-profiling) (6.0.7)\n",
      "Requirement already satisfied: Send2Trash in c:\\users\\ashvini medical\\anaconda3\\lib\\site-packages (from notebook>=4.4.1->widgetsnbextension~=3.5.0->ipywidgets>=7.5.1->pandas-profiling) (1.5.0)\n",
      "Requirement already satisfied: prometheus-client in c:\\users\\ashvini medical\\anaconda3\\lib\\site-packages (from notebook>=4.4.1->widgetsnbextension~=3.5.0->ipywidgets>=7.5.1->pandas-profiling) (0.8.0)\n",
      "Requirement already satisfied: terminado>=0.8.3 in c:\\users\\ashvini medical\\anaconda3\\lib\\site-packages (from notebook>=4.4.1->widgetsnbextension~=3.5.0->ipywidgets>=7.5.1->pandas-profiling) (0.9.1)\n",
      "Requirement already satisfied: argon2-cffi in c:\\users\\ashvini medical\\anaconda3\\lib\\site-packages (from notebook>=4.4.1->widgetsnbextension~=3.5.0->ipywidgets>=7.5.1->pandas-profiling) (20.1.0)\n",
      "Requirement already satisfied: pywin32>=1.0; sys_platform == \"win32\" in c:\\users\\ashvini medical\\anaconda3\\lib\\site-packages (from jupyter-core->nbformat>=4.2.0->ipywidgets>=7.5.1->pandas-profiling) (227)\n",
      "Requirement already satisfied: pyrsistent>=0.14.0 in c:\\users\\ashvini medical\\anaconda3\\lib\\site-packages (from jsonschema!=2.5.0,>=2.4->nbformat>=4.2.0->ipywidgets>=7.5.1->pandas-profiling) (0.17.3)\n"
     ]
    }
   ],
   "source": [
    "! pip install pandas-profiling"
   ]
  },
  {
   "cell_type": "code",
   "execution_count": 3,
   "metadata": {},
   "outputs": [],
   "source": [
    "import numpy as np\n",
    "import pandas as pd\n",
    "from pandas_profiling import ProfileReport"
   ]
  },
  {
   "cell_type": "code",
   "execution_count": 4,
   "metadata": {},
   "outputs": [],
   "source": [
    "from sklearn.datasets import load_diabetes"
   ]
  },
  {
   "cell_type": "code",
   "execution_count": 5,
   "metadata": {},
   "outputs": [],
   "source": [
    "diab_data=load_diabetes()"
   ]
  },
  {
   "cell_type": "code",
   "execution_count": 7,
   "metadata": {},
   "outputs": [],
   "source": [
    "df=pd.DataFrame(data=diab_data.data,columns=diab_data.feature_names)"
   ]
  },
  {
   "cell_type": "code",
   "execution_count": 8,
   "metadata": {},
   "outputs": [
    {
     "data": {
      "text/html": [
       "<div>\n",
       "<style scoped>\n",
       "    .dataframe tbody tr th:only-of-type {\n",
       "        vertical-align: middle;\n",
       "    }\n",
       "\n",
       "    .dataframe tbody tr th {\n",
       "        vertical-align: top;\n",
       "    }\n",
       "\n",
       "    .dataframe thead th {\n",
       "        text-align: right;\n",
       "    }\n",
       "</style>\n",
       "<table border=\"1\" class=\"dataframe\">\n",
       "  <thead>\n",
       "    <tr style=\"text-align: right;\">\n",
       "      <th></th>\n",
       "      <th>age</th>\n",
       "      <th>sex</th>\n",
       "      <th>bmi</th>\n",
       "      <th>bp</th>\n",
       "      <th>s1</th>\n",
       "      <th>s2</th>\n",
       "      <th>s3</th>\n",
       "      <th>s4</th>\n",
       "      <th>s5</th>\n",
       "      <th>s6</th>\n",
       "    </tr>\n",
       "  </thead>\n",
       "  <tbody>\n",
       "    <tr>\n",
       "      <th>0</th>\n",
       "      <td>0.038076</td>\n",
       "      <td>0.050680</td>\n",
       "      <td>0.061696</td>\n",
       "      <td>0.021872</td>\n",
       "      <td>-0.044223</td>\n",
       "      <td>-0.034821</td>\n",
       "      <td>-0.043401</td>\n",
       "      <td>-0.002592</td>\n",
       "      <td>0.019908</td>\n",
       "      <td>-0.017646</td>\n",
       "    </tr>\n",
       "    <tr>\n",
       "      <th>1</th>\n",
       "      <td>-0.001882</td>\n",
       "      <td>-0.044642</td>\n",
       "      <td>-0.051474</td>\n",
       "      <td>-0.026328</td>\n",
       "      <td>-0.008449</td>\n",
       "      <td>-0.019163</td>\n",
       "      <td>0.074412</td>\n",
       "      <td>-0.039493</td>\n",
       "      <td>-0.068330</td>\n",
       "      <td>-0.092204</td>\n",
       "    </tr>\n",
       "    <tr>\n",
       "      <th>2</th>\n",
       "      <td>0.085299</td>\n",
       "      <td>0.050680</td>\n",
       "      <td>0.044451</td>\n",
       "      <td>-0.005671</td>\n",
       "      <td>-0.045599</td>\n",
       "      <td>-0.034194</td>\n",
       "      <td>-0.032356</td>\n",
       "      <td>-0.002592</td>\n",
       "      <td>0.002864</td>\n",
       "      <td>-0.025930</td>\n",
       "    </tr>\n",
       "    <tr>\n",
       "      <th>3</th>\n",
       "      <td>-0.089063</td>\n",
       "      <td>-0.044642</td>\n",
       "      <td>-0.011595</td>\n",
       "      <td>-0.036656</td>\n",
       "      <td>0.012191</td>\n",
       "      <td>0.024991</td>\n",
       "      <td>-0.036038</td>\n",
       "      <td>0.034309</td>\n",
       "      <td>0.022692</td>\n",
       "      <td>-0.009362</td>\n",
       "    </tr>\n",
       "    <tr>\n",
       "      <th>4</th>\n",
       "      <td>0.005383</td>\n",
       "      <td>-0.044642</td>\n",
       "      <td>-0.036385</td>\n",
       "      <td>0.021872</td>\n",
       "      <td>0.003935</td>\n",
       "      <td>0.015596</td>\n",
       "      <td>0.008142</td>\n",
       "      <td>-0.002592</td>\n",
       "      <td>-0.031991</td>\n",
       "      <td>-0.046641</td>\n",
       "    </tr>\n",
       "  </tbody>\n",
       "</table>\n",
       "</div>"
      ],
      "text/plain": [
       "        age       sex       bmi        bp        s1        s2        s3  \\\n",
       "0  0.038076  0.050680  0.061696  0.021872 -0.044223 -0.034821 -0.043401   \n",
       "1 -0.001882 -0.044642 -0.051474 -0.026328 -0.008449 -0.019163  0.074412   \n",
       "2  0.085299  0.050680  0.044451 -0.005671 -0.045599 -0.034194 -0.032356   \n",
       "3 -0.089063 -0.044642 -0.011595 -0.036656  0.012191  0.024991 -0.036038   \n",
       "4  0.005383 -0.044642 -0.036385  0.021872  0.003935  0.015596  0.008142   \n",
       "\n",
       "         s4        s5        s6  \n",
       "0 -0.002592  0.019908 -0.017646  \n",
       "1 -0.039493 -0.068330 -0.092204  \n",
       "2 -0.002592  0.002864 -0.025930  \n",
       "3  0.034309  0.022692 -0.009362  \n",
       "4 -0.002592 -0.031991 -0.046641  "
      ]
     },
     "execution_count": 8,
     "metadata": {},
     "output_type": "execute_result"
    }
   ],
   "source": [
    "df.head()"
   ]
  },
  {
   "cell_type": "code",
   "execution_count": 11,
   "metadata": {},
   "outputs": [
    {
     "data": {
      "text/plain": [
       "Index(['age', 'sex', 'bmi', 'bp', 's1', 's2', 's3', 's4', 's5', 's6'], dtype='object')"
      ]
     },
     "execution_count": 11,
     "metadata": {},
     "output_type": "execute_result"
    }
   ],
   "source": [
    "df.columns"
   ]
  },
  {
   "cell_type": "code",
   "execution_count": 13,
   "metadata": {},
   "outputs": [],
   "source": [
    "profile= ProfileReport(df,title='Pandas Profiling Report',explorative=True)"
   ]
  },
  {
   "cell_type": "code",
   "execution_count": 14,
   "metadata": {},
   "outputs": [
    {
     "data": {
      "application/vnd.jupyter.widget-view+json": {
       "model_id": "3f42fa1d06574eadb62ccbfaa27955f5",
       "version_major": 2,
       "version_minor": 0
      },
      "text/plain": [
       "HBox(children=(HTML(value='Summarize dataset'), FloatProgress(value=0.0, max=23.0), HTML(value='')))"
      ]
     },
     "metadata": {},
     "output_type": "display_data"
    },
    {
     "name": "stdout",
     "output_type": "stream",
     "text": [
      "\n"
     ]
    },
    {
     "data": {
      "application/vnd.jupyter.widget-view+json": {
       "model_id": "3c648e656c9b46fb874f6aa7e78b795c",
       "version_major": 2,
       "version_minor": 0
      },
      "text/plain": [
       "HBox(children=(HTML(value='Generate report structure'), FloatProgress(value=0.0, max=1.0), HTML(value='')))"
      ]
     },
     "metadata": {},
     "output_type": "display_data"
    },
    {
     "name": "stdout",
     "output_type": "stream",
     "text": [
      "\n"
     ]
    },
    {
     "data": {
      "application/vnd.jupyter.widget-view+json": {
       "model_id": "",
       "version_major": 2,
       "version_minor": 0
      },
      "text/plain": [
       "HBox(children=(HTML(value='Render widgets'), FloatProgress(value=0.0, max=1.0), HTML(value='')))"
      ]
     },
     "metadata": {},
     "output_type": "display_data"
    },
    {
     "data": {
      "application/vnd.jupyter.widget-view+json": {
       "model_id": "98d054faf9c24e75bf154e3b4eb60c78",
       "version_major": 2,
       "version_minor": 0
      },
      "text/plain": [
       "VBox(children=(Tab(children=(Tab(children=(GridBox(children=(VBox(children=(GridspecLayout(children=(HTML(valu…"
      ]
     },
     "metadata": {},
     "output_type": "display_data"
    }
   ],
   "source": [
    "profile.to_widgets()"
   ]
  },
  {
   "cell_type": "code",
   "execution_count": 15,
   "metadata": {
    "scrolled": true
   },
   "outputs": [
    {
     "data": {
      "application/vnd.jupyter.widget-view+json": {
       "model_id": "a6fe00ea85b84ab5b8ceced351f23530",
       "version_major": 2,
       "version_minor": 0
      },
      "text/plain": [
       "HBox(children=(HTML(value='Render HTML'), FloatProgress(value=0.0, max=1.0), HTML(value='')))"
      ]
     },
     "metadata": {},
     "output_type": "display_data"
    },
    {
     "name": "stdout",
     "output_type": "stream",
     "text": [
      "\n"
     ]
    },
    {
     "name": "stderr",
     "output_type": "stream",
     "text": [
      "C:\\Users\\ASHVINI MEDICAL\\anaconda3\\lib\\site-packages\\pandas_profiling\\profile_report.py:283: UserWarning: Extension .htmt not supported. For now we assume .html was intended. To remove this warning, please use .html or .json.\n",
      "  warnings.warn(\n"
     ]
    },
    {
     "data": {
      "application/vnd.jupyter.widget-view+json": {
       "model_id": "eb407d053f7d475c8d7e3df5efd7e136",
       "version_major": 2,
       "version_minor": 0
      },
      "text/plain": [
       "HBox(children=(HTML(value='Export report to file'), FloatProgress(value=0.0, max=1.0), HTML(value='')))"
      ]
     },
     "metadata": {},
     "output_type": "display_data"
    },
    {
     "name": "stdout",
     "output_type": "stream",
     "text": [
      "\n"
     ]
    }
   ],
   "source": [
    "profile.to_file(\"output.htmt\")   "
   ]
  },
  {
   "cell_type": "code",
   "execution_count": 16,
   "metadata": {},
   "outputs": [],
   "source": []
  },
  {
   "cell_type": "code",
   "execution_count": null,
   "metadata": {},
   "outputs": [],
   "source": []
  },
  {
   "cell_type": "code",
   "execution_count": null,
   "metadata": {},
   "outputs": [],
   "source": []
  }
 ],
 "metadata": {
  "kernelspec": {
   "display_name": "Python 3",
   "language": "python",
   "name": "python3"
  },
  "language_info": {
   "codemirror_mode": {
    "name": "ipython",
    "version": 3
   },
   "file_extension": ".py",
   "mimetype": "text/x-python",
   "name": "python",
   "nbconvert_exporter": "python",
   "pygments_lexer": "ipython3",
   "version": "3.8.5"
  }
 },
 "nbformat": 4,
 "nbformat_minor": 4
}
